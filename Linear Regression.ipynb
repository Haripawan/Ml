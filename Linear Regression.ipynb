{
 "cells": [
  {
   "cell_type": "code",
   "execution_count": 43,
   "metadata": {},
   "outputs": [
    {
     "name": "stdout",
     "output_type": "stream",
     "text": [
      "[[ 9.77586207]\n",
      " [10.75215517]\n",
      " [12.70474138]\n",
      " [17.5862069 ]\n",
      " [13.68103448]]\n",
      "R-squared:0.6620\n",
      "MSE:3.8396\n",
      "Coefficients: [[0.9762931]]\n",
      "Intercept: [1.96551724]\n"
     ]
    }
   ],
   "source": [
    "from sklearn.linear_model import LinearRegression\n",
    "from  sklearn.metrics import mean_squared_error\n",
    "\n",
    "\n",
    "X_train=[[6],[8],[10],[14],[18]]\n",
    "y_train=[[7],[9],[13],[17.5],[18]]\n",
    "X_test=[[8],[9],[11],[16],[12]]\n",
    "y_test=[[11],[8.5],[15],[18],[11]]\n",
    "\n",
    "model = LinearRegression()\n",
    "lm=model.fit(X_train,y_train)\n",
    "y_pred=lm.predict(X_test)\n",
    "mean_squared_error(y_test,y_pred)\n",
    "print(y_pred)\n",
    "print('R-squared:%.4f'%model.score(X_test,y_test))\n",
    "print('MSE:%.4f'%mean_squared_error(y_test,y_pred))\n",
    "print('Coefficients:',model.coef_)\n",
    "print('Intercept:',model.intercept_)\n",
    "\n",
    "\n"
   ]
  },
  {
   "cell_type": "code",
   "execution_count": 44,
   "metadata": {},
   "outputs": [],
   "source": [
    "import matplotlib\n",
    "import seaborn as sns\n",
    "from matplotlib import pyplot as plt\n",
    "\n",
    "%matplotlib inline\n",
    "\n",
    "matplotlib.style.use('ggplot')\n",
    "sns.set(style=\"white\",color_codes=True)"
   ]
  },
  {
   "cell_type": "code",
   "execution_count": 45,
   "metadata": {},
   "outputs": [],
   "source": [
    "from sklearn.linear_model import LinearRegression,Lasso,Ridge,ElasticNet\n",
    "from sklearn.model_selection import KFold\n",
    "import numpy as np\n",
    "import pylab as pl\n",
    "\n"
   ]
  },
  {
   "cell_type": "code",
   "execution_count": 46,
   "metadata": {},
   "outputs": [],
   "source": [
    "from sklearn.model_selection import cross_val_score\n",
    "from sklearn.datasets import load_boston\n",
    "boston =load_boston()"
   ]
  },
  {
   "cell_type": "code",
   "execution_count": 47,
   "metadata": {},
   "outputs": [
    {
     "data": {
      "text/plain": [
       "sklearn.utils.Bunch"
      ]
     },
     "execution_count": 47,
     "metadata": {},
     "output_type": "execute_result"
    }
   ],
   "source": [
    "type(boston)"
   ]
  },
  {
   "cell_type": "code",
   "execution_count": 48,
   "metadata": {},
   "outputs": [
    {
     "data": {
      "text/plain": [
       "array(['CRIM', 'ZN', 'INDUS', 'CHAS', 'NOX', 'RM', 'AGE', 'DIS', 'RAD',\n",
       "       'TAX', 'PTRATIO', 'B', 'LSTAT'], dtype='<U7')"
      ]
     },
     "execution_count": 48,
     "metadata": {},
     "output_type": "execute_result"
    }
   ],
   "source": [
    "boston.feature_names"
   ]
  },
  {
   "cell_type": "code",
   "execution_count": 49,
   "metadata": {},
   "outputs": [
    {
     "name": "stdout",
     "output_type": "stream",
     "text": [
      "(506, 13)\n",
      "(506,)\n"
     ]
    }
   ],
   "source": [
    "print(boston.data.shape)\n",
    "print(boston.target.shape)"
   ]
  },
  {
   "cell_type": "code",
   "execution_count": 50,
   "metadata": {},
   "outputs": [
    {
     "data": {
      "text/plain": [
       "(array([ 21.,  55.,  82., 154.,  84.,  41.,  30.,   8.,  10.,  21.]),\n",
       " array([ 5. ,  9.5, 14. , 18.5, 23. , 27.5, 32. , 36.5, 41. , 45.5, 50. ]),\n",
       " <a list of 10 Patch objects>)"
      ]
     },
     "execution_count": 50,
     "metadata": {},
     "output_type": "execute_result"
    },
    {
     "data": {
      "image/png": "[encoded data removed]",
      "text/plain": [
       "<Figure size 432x288 with 1 Axes>"
      ]
     },
     "metadata": {
      "needs_background": "light"
     },
     "output_type": "display_data"
    }
   ],
   "source": [
    "import matplotlib.pyplot as plt\n",
    "%matplotlib inline\n",
    "plt.hist(boston.target)"
   ]
  },
  {
   "cell_type": "code",
   "execution_count": 51,
   "metadata": {},
   "outputs": [],
   "source": [
    "x =boston.data\n",
    "y=boston.target"
   ]
  },
  {
   "cell_type": "code",
   "execution_count": 52,
   "metadata": {},
   "outputs": [
    {
     "name": "stdout",
     "output_type": "stream",
     "text": [
      "[array([0.73376082]), array([0.4730725]), array([-1.00631454]), array([0.64113984]), array([0.54766046]), array([0.73640292]), array([0.37828386]), array([-0.12922703]), array([-0.76843243]), array([0.4189435])]\n",
      "[9.286946705879672, 14.151283161508543, 14.073606154569493, 35.20692432585353, 31.885116664485235, 19.835877961829688, 9.94726918189768, 168.3753795422647, 33.32974506753778, 10.960410679423061]\n",
      "Method: Linear regression\n",
      "RScore 10fold avg  : 0.2025\n",
      "MSE on 10-fold CV: 34.7053\n",
      "Coefficients:n [-1.05618627e-01  4.91381113e-02  3.21540897e-02  2.51293737e+00\n",
      " -1.76280019e+01  3.81765978e+00  1.05792271e-02 -1.43608998e+00\n",
      "  3.61498721e-01 -1.54712068e-02 -9.12347239e-01  9.85932090e-03\n",
      " -5.55092176e-01]\n",
      "Intercept:n 35.56663916068057\n",
      "\n",
      "\n",
      "[array([0.72268061]), array([0.52494631]), array([-0.24735376]), array([0.55130048]), array([0.55369051]), array([0.70356046]), array([0.29382634]), array([-0.00020556]), array([-0.6474623]), array([0.30241306])]\n",
      "[9.673446233559911, 12.758148664196002, 8.749757410149797, 44.02085250991811, 31.460062737024874, 22.30729784518752, 11.298563894111776, 149.1374069367949, 31.04981431530463, 13.158512715319727]\n",
      "Method: Lasso\n",
      "RScore 10fold avg  : 0.2757\n",
      "MSE on 10-fold CV: 33.3614\n",
      "Coefficients:n [-0.08722149  0.05333276 -0.01665488  0.         -0.          3.14850458\n",
      "  0.00617069 -1.07308553  0.34481993 -0.01953917 -0.71835102  0.00982632\n",
      " -0.64207516]\n",
      "Intercept:n 28.847626734794297\n",
      "\n",
      "\n",
      "[array([0.7340818]), array([0.49895916]), array([-0.75170665]), array([0.63570809]), array([0.56218159]), array([0.74386192]), array([0.39577438]), array([-0.13082105]), array([-0.776853]), array([0.41197729])]\n",
      "[9.275750211356648, 13.456065310203922, 12.287619424180912, 35.73982113250404, 30.861532081998487, 19.274582696186332, 9.667426183070885, 168.61305867609974, 33.48844792281036, 11.091813558146983]\n",
      "Method: Ridge\n",
      "RScore 10fold avg  : 0.2323\n",
      "MSE on 10-fold CV: 34.3756\n",
      "Coefficients:n [-1.03243350e-01  4.98496360e-02  1.64182583e-02  2.47293307e+00\n",
      " -1.43924883e+01  3.83476349e+00  7.78283849e-03 -1.39644321e+00\n",
      "  3.55915942e-01 -1.60061523e-02 -8.74220772e-01  9.88391735e-03\n",
      " -5.59058068e-01]\n",
      "Intercept:n 33.467910460188314\n",
      "\n",
      "\n",
      "[array([0.70196001]), array([0.47184462]), array([-0.4509557]), array([0.52680883]), array([0.51778711]), array([0.67672089]), array([0.22681781]), array([0.26410831]), array([-0.43926569]), array([0.2714119])]\n",
      "[10.396221543211256, 14.184259585268741, 10.177954968753195, 46.423670190594954, 33.990869680048974, 24.3269952043385, 12.370679926042163, 109.72642281689625, 27.125921126246432, 13.743284528089657]\n",
      "Method: Elastic-net\n",
      "RScore 10fold avg  : 0.2767\n",
      "MSE on 10-fold CV: 30.2466\n",
      "Coefficients:n [-0.09203214  0.05712133 -0.03866966  0.11655432 -0.          2.36247603\n",
      "  0.01162987 -1.10794576  0.37939382 -0.02066715 -0.76253749  0.00921528\n",
      " -0.69238361]\n",
      "Intercept:n 35.54926662123789\n",
      "\n",
      "\n"
     ]
    }
   ],
   "source": [
    "from sklearn import metrics\n",
    "\n",
    "#comparisons across methods\n",
    "a = 0.3\n",
    "\n",
    "for name,method in [\n",
    "        ('Linear regression', LinearRegression()),\n",
    "        ('Lasso', Lasso(fit_intercept=True, alpha=a)),\n",
    "        ('Ridge', Ridge(fit_intercept=True, alpha=a)),\n",
    "        ('Elastic-net', ElasticNet(fit_intercept=True,alpha=a))\n",
    "        ]:\n",
    "    \n",
    "     \n",
    "    k_fold = KFold(10)\n",
    "    rsq=[]\n",
    "    mse=[]\n",
    "  \n",
    "    for k, (train, test) in enumerate(k_fold.split(x, y)):\n",
    "        method.fit(x[train],y[train])\n",
    "        py = method.predict(x[test])\n",
    "        rsq.append(metrics.r2_score(y[test],py,multioutput='raw_values'))\n",
    "        mse.append(metrics.mean_squared_error(y[test],py))\n",
    "    print(rsq)\n",
    "    print(mse)\n",
    "    cvrsq=np.average(rsq)\n",
    "    cvmse=np.average(mse)\n",
    "        \n",
    "        \n",
    "    print('Method: %s' %name)\n",
    "    print('RScore 10fold avg  : %.4f' %cvrsq)\n",
    "    print('MSE on 10-fold CV: %.4f' %cvmse)\n",
    "    print('Coefficients:n',method.coef_)\n",
    "    print('Intercept:n',method.intercept_)\n",
    "    print (\"\\n\")"
   ]
  },
  {
   "cell_type": "code",
   "execution_count": 53,
   "metadata": {},
   "outputs": [],
   "source": [
    "mod=LinearRegression()\n",
    "model=mod.fit(x,y)"
   ]
  },
  {
   "cell_type": "code",
   "execution_count": 54,
   "metadata": {},
   "outputs": [
    {
     "data": {
      "text/plain": [
       "['Boston_regressor.pkl']"
      ]
     },
     "execution_count": 54,
     "metadata": {},
     "output_type": "execute_result"
    }
   ],
   "source": [
    "from sklearn.externals import joblib \n",
    "joblib.dump(model, 'Boston_regressor.pkl')"
   ]
  }
 ],
 "metadata": {
  "kernelspec": {
   "display_name": "Python 3",
   "language": "python",
   "name": "python3"
  },
  "language_info": {
   "codemirror_mode": {
    "name": "ipython",
    "version": 3
   },
   "file_extension": ".py",
   "mimetype": "text/x-python",
   "name": "python",
   "nbconvert_exporter": "python",
   "pygments_lexer": "ipython3",
   "version": "3.7.3"
  }
 },
 "nbformat": 4,
 "nbformat_minor": 2
}
