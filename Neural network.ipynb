{
 "cells": [
  {
   "cell_type": "code",
   "execution_count": 2,
   "metadata": {},
   "outputs": [
    {
     "name": "stderr",
     "output_type": "stream",
     "text": [
      "C:\\ProgramData\\Anaconda3\\lib\\importlib\\_bootstrap.py:219: RuntimeWarning: numpy.ufunc size changed, may indicate binary incompatibility. Expected 192 from C header, got 216 from PyObject\n",
      "  return f(*args, **kwds)\n",
      "C:\\ProgramData\\Anaconda3\\lib\\importlib\\_bootstrap.py:219: RuntimeWarning: numpy.ufunc size changed, may indicate binary incompatibility. Expected 192 from C header, got 216 from PyObject\n",
      "  return f(*args, **kwds)\n"
     ]
    }
   ],
   "source": [
    "from sklearn.neural_network import MLPRegressor\n",
    "from sklearn.datasets import  load_boston\n",
    "from sklearn.preprocessing import StandardScaler\n",
    "from sklearn.model_selection import GridSearchCV,train_test_split\n",
    "from sklearn.metrics import mean_squared_error\n",
    "import pandas as pd\n",
    "import numpy as np\n",
    "\n",
    "boston =load_boston ()"
   ]
  },
  {
   "cell_type": "code",
   "execution_count": 4,
   "metadata": {},
   "outputs": [
    {
     "data": {
      "text/plain": [
       "array([[-0.41997312,  3.20424263, -1.39991165, ...,  1.59745976,\n",
       "         0.31094945, -0.6918215 ],\n",
       "       [-0.35586796, -0.46424797, -0.49869226, ...,  1.14302964,\n",
       "         0.46022376, -0.66179381],\n",
       "       [-0.41701013, -0.46424797,  0.33309128, ..., -0.94734891,\n",
       "         0.41660602, -0.45731955],\n",
       "       ...,\n",
       "       [-0.37961773, -0.46424797, -0.7793288 , ..., -0.49291879,\n",
       "         0.19745863, -0.9334729 ],\n",
       "       [-0.41914497, -0.46424797, -1.02669399, ...,  0.00695434,\n",
       "         0.46022376, -0.46732878],\n",
       "       [ 3.69006527, -0.46424797,  0.9421015 , ...,  0.77948554,\n",
       "        -3.54244506,  0.23331729]])"
      ]
     },
     "execution_count": 4,
     "metadata": {},
     "output_type": "execute_result"
    }
   ],
   "source": [
    "x_train,x_test,y_train,y_test = train_test_split(boston.data,boston.target)\n",
    "scaler = StandardScaler()\n",
    "scaler.fit(x_train)\n",
    "x_train = scaler.transform(x_train)\n",
    "x_test = scaler.transform(x_test)\n"
   ]
  },
  {
   "cell_type": "code",
   "execution_count": 5,
   "metadata": {},
   "outputs": [],
   "source": [
    "\n",
    "tune_parameters = [{'hidden_layer_sizes': [1,2,3,4,5,6,7,8,9,10,20,30,40],\n",
    "'activation': ['relu'],\n",
    "'solver':['lbfgs'], 'alpha':[0.0001],\n",
    "'batch_size':['auto'], 'learning_rate':['constant'],\n",
    "'learning_rate_init':[0.001], 'max_iter':[500]}]"
   ]
  },
  {
   "cell_type": "code",
   "execution_count": 6,
   "metadata": {},
   "outputs": [
    {
     "name": "stdout",
     "output_type": "stream",
     "text": [
      "Wall time: 17.2 s\n",
      "{'activation': 'relu', 'alpha': 0.0001, 'batch_size': 'auto', 'hidden_layer_sizes': 5, 'learning_rate': 'constant', 'learning_rate_init': 0.001, 'max_iter': 500, 'solver': 'lbfgs'}\n",
      "0.8231353198494558\n",
      "Test MSE  :  15.5\n"
     ]
    }
   ],
   "source": [
    "rgr = GridSearchCV(MLPRegressor(),tune_parameters,iid=True,cv=5)\n",
    "%time rgr.fit(x_train,y_train)\n",
    "test_mse = mean_squared_error (y_test,rgr.predict(x_test))\n",
    "print(rgr.best_params_)\n",
    "print(rgr.best_score_)\n",
    "print(\"Test MSE  : \" , np.round(test_mse,2))"
   ]
  },
  {
   "cell_type": "code",
   "execution_count": null,
   "metadata": {},
   "outputs": [],
   "source": []
  },
  {
   "cell_type": "code",
   "execution_count": null,
   "metadata": {},
   "outputs": [],
   "source": []
  },
  {
   "cell_type": "code",
   "execution_count": null,
   "metadata": {},
   "outputs": [],
   "source": []
  }
 ],
 "metadata": {
  "kernelspec": {
   "display_name": "Python 3",
   "language": "python",
   "name": "python3"
  },
  "language_info": {
   "codemirror_mode": {
    "name": "ipython",
    "version": 3
   },
   "file_extension": ".py",
   "mimetype": "text/x-python",
   "name": "python",
   "nbconvert_exporter": "python",
   "pygments_lexer": "ipython3",
   "version": "3.7.3"
  }
 },
 "nbformat": 4,
 "nbformat_minor": 2
}
