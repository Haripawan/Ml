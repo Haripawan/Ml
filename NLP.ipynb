{
 "cells": [
  {
   "cell_type": "code",
   "execution_count": 36,
   "metadata": {},
   "outputs": [
    {
     "data": {
      "text/html": [
       "<div>\n",
       "<style scoped>\n",
       "    .dataframe tbody tr th:only-of-type {\n",
       "        vertical-align: middle;\n",
       "    }\n",
       "\n",
       "    .dataframe tbody tr th {\n",
       "        vertical-align: top;\n",
       "    }\n",
       "\n",
       "    .dataframe thead th {\n",
       "        text-align: right;\n",
       "    }\n",
       "</style>\n",
       "<table border=\"1\" class=\"dataframe\">\n",
       "  <thead>\n",
       "    <tr style=\"text-align: right;\">\n",
       "      <th></th>\n",
       "      <th>smscategory</th>\n",
       "      <th>sms</th>\n",
       "    </tr>\n",
       "  </thead>\n",
       "  <tbody>\n",
       "    <tr>\n",
       "      <th>0</th>\n",
       "      <td>ham</td>\n",
       "      <td>Go until jurong point, crazy.. Available only ...</td>\n",
       "    </tr>\n",
       "    <tr>\n",
       "      <th>1</th>\n",
       "      <td>ham</td>\n",
       "      <td>Ok lar... Joking wif u oni...</td>\n",
       "    </tr>\n",
       "    <tr>\n",
       "      <th>2</th>\n",
       "      <td>spam</td>\n",
       "      <td>Free entry in 2 a wkly comp to win FA Cup fina...</td>\n",
       "    </tr>\n",
       "    <tr>\n",
       "      <th>3</th>\n",
       "      <td>ham</td>\n",
       "      <td>U dun say so early hor... U c already then say...</td>\n",
       "    </tr>\n",
       "    <tr>\n",
       "      <th>4</th>\n",
       "      <td>ham</td>\n",
       "      <td>Nah I don't think he goes to usf, he lives aro...</td>\n",
       "    </tr>\n",
       "  </tbody>\n",
       "</table>\n",
       "</div>"
      ],
      "text/plain": [
       "  smscategory                                                sms\n",
       "0         ham  Go until jurong point, crazy.. Available only ...\n",
       "1         ham                      Ok lar... Joking wif u oni...\n",
       "2        spam  Free entry in 2 a wkly comp to win FA Cup fina...\n",
       "3         ham  U dun say so early hor... U c already then say...\n",
       "4         ham  Nah I don't think he goes to usf, he lives aro..."
      ]
     },
     "execution_count": 36,
     "metadata": {},
     "output_type": "execute_result"
    }
   ],
   "source": [
    "import pandas as pd\n",
    "from sklearn.feature_extraction.text import TfidfVectorizer\n",
    "from sklearn.linear_model.logistic import LogisticRegression\n",
    "from sklearn.model_selection import train_test_split,cross_val_score\n",
    "import numpy as np\n",
    "url=r'C:\\Users\\w10\\Desktop\\Hp\\smsspamcollection\\SMSSpamCollection.csv'\n",
    "\n",
    "msg=pd.read_csv(url,delimiter='\\t',names=['smscategory','sms'])\n",
    "msg.head()"
   ]
  },
  {
   "cell_type": "code",
   "execution_count": 37,
   "metadata": {},
   "outputs": [
    {
     "data": {
      "text/plain": [
       "(5572, 2)"
      ]
     },
     "execution_count": 37,
     "metadata": {},
     "output_type": "execute_result"
    }
   ],
   "source": [
    "msg.shape"
   ]
  },
  {
   "cell_type": "code",
   "execution_count": 38,
   "metadata": {},
   "outputs": [
    {
     "data": {
      "text/html": [
       "<div>\n",
       "<style scoped>\n",
       "    .dataframe tbody tr th:only-of-type {\n",
       "        vertical-align: middle;\n",
       "    }\n",
       "\n",
       "    .dataframe tbody tr th {\n",
       "        vertical-align: top;\n",
       "    }\n",
       "\n",
       "    .dataframe thead th {\n",
       "        text-align: right;\n",
       "    }\n",
       "</style>\n",
       "<table border=\"1\" class=\"dataframe\">\n",
       "  <thead>\n",
       "    <tr style=\"text-align: right;\">\n",
       "      <th></th>\n",
       "      <th>smscategory</th>\n",
       "      <th>sms</th>\n",
       "    </tr>\n",
       "  </thead>\n",
       "  <tbody>\n",
       "    <tr>\n",
       "      <th>count</th>\n",
       "      <td>5572</td>\n",
       "      <td>5572</td>\n",
       "    </tr>\n",
       "    <tr>\n",
       "      <th>unique</th>\n",
       "      <td>2</td>\n",
       "      <td>5169</td>\n",
       "    </tr>\n",
       "    <tr>\n",
       "      <th>top</th>\n",
       "      <td>ham</td>\n",
       "      <td>Sorry, I'll call later</td>\n",
       "    </tr>\n",
       "    <tr>\n",
       "      <th>freq</th>\n",
       "      <td>4825</td>\n",
       "      <td>30</td>\n",
       "    </tr>\n",
       "  </tbody>\n",
       "</table>\n",
       "</div>"
      ],
      "text/plain": [
       "       smscategory                     sms\n",
       "count         5572                    5572\n",
       "unique           2                    5169\n",
       "top            ham  Sorry, I'll call later\n",
       "freq          4825                      30"
      ]
     },
     "execution_count": 38,
     "metadata": {},
     "output_type": "execute_result"
    }
   ],
   "source": [
    "msg.describe()"
   ]
  },
  {
   "cell_type": "code",
   "execution_count": 39,
   "metadata": {},
   "outputs": [
    {
     "data": {
      "text/plain": [
       "ham     4825\n",
       "spam     747\n",
       "Name: smscategory, dtype: int64"
      ]
     },
     "execution_count": 39,
     "metadata": {},
     "output_type": "execute_result"
    }
   ],
   "source": [
    "msg.smscategory.value_counts()"
   ]
  },
  {
   "cell_type": "code",
   "execution_count": 40,
   "metadata": {},
   "outputs": [],
   "source": [
    "x_train_raw,x_test_raw,y_train,y_test = train_test_split(msg.sms,msg.smscategory,stratify=msg.smscategory)"
   ]
  },
  {
   "cell_type": "code",
   "execution_count": 41,
   "metadata": {},
   "outputs": [
    {
     "name": "stdout",
     "output_type": "stream",
     "text": [
      "  (0, 3489)\t0.3051647638005107\n",
      "  (0, 7446)\t0.18304494147194594\n",
      "  (0, 4269)\t0.518097497873636\n",
      "  (0, 6587)\t0.2152213507925155\n",
      "  (0, 7177)\t0.6262771982578507\n",
      "  (0, 7431)\t0.4079223457210084\n",
      "  (1, 7446)\t0.06494285176779298\n",
      "  (1, 6587)\t0.07635877926691943\n",
      "  (1, 2130)\t0.1432140129008055\n",
      "  (1, 5859)\t0.37074239492891475\n",
      "  (1, 4181)\t0.18381676508022365\n",
      "  (1, 6737)\t0.444396080273454\n",
      "  (1, 1547)\t0.1925964862210627\n",
      "  (1, 3530)\t0.16788281685342982\n",
      "  (1, 6299)\t0.20868543777170417\n",
      "  (1, 6945)\t0.19061294145584373\n",
      "  (1, 6615)\t0.16625313153156585\n",
      "  (1, 1025)\t0.10165849445222515\n",
      "  (1, 4073)\t0.17832392782645004\n",
      "  (1, 4763)\t0.11515373046468357\n",
      "  (1, 7008)\t0.24854139482622387\n",
      "  (1, 2467)\t0.24854139482622387\n",
      "  (1, 5382)\t0.24854139482622387\n",
      "  (1, 4776)\t0.24854139482622387\n",
      "  (1, 1548)\t0.10372902868107509\n",
      "  :\t:\n",
      "  (4175, 897)\t0.31624669022593555\n",
      "  (4176, 7446)\t0.2615832621587297\n",
      "  (4176, 2130)\t0.5768516112502127\n",
      "  (4176, 1581)\t0.3861049354545495\n",
      "  (4176, 4266)\t0.3582800295717659\n",
      "  (4176, 7230)\t0.5668992986272989\n",
      "  (4177, 3836)\t0.3029884062002157\n",
      "  (4177, 7450)\t0.23616517277344554\n",
      "  (4177, 4684)\t0.26082512342213443\n",
      "  (4177, 2340)\t0.3414637523348511\n",
      "  (4177, 3037)\t0.4116748406142362\n",
      "  (4177, 7249)\t0.3768288182885707\n",
      "  (4177, 5872)\t0.360053967597037\n",
      "  (4177, 4316)\t0.4761111271966743\n",
      "  (4178, 7446)\t0.12801257327123455\n",
      "  (4178, 7431)\t0.2852807007430344\n",
      "  (4178, 7125)\t0.2483448531035621\n",
      "  (4178, 7293)\t0.21298780735108555\n",
      "  (4178, 6701)\t0.12264166264642207\n",
      "  (4178, 4520)\t0.18039484973538994\n",
      "  (4178, 3223)\t0.42765497665956476\n",
      "  (4178, 1313)\t0.3383681293897129\n",
      "  (4178, 6311)\t0.41135181419055517\n",
      "  (4178, 5242)\t0.3424177633823326\n",
      "  (4178, 1653)\t0.40467695972349055\n"
     ]
    }
   ],
   "source": [
    "vectorizer = TfidfVectorizer()\n",
    "x_train =vectorizer.fit_transform(x_train_raw)\n",
    "x_test=  vectorizer.transform(x_test_raw)\n",
    "\n",
    "print(x_train)\n",
    "#print(x_test)"
   ]
  },
  {
   "cell_type": "code",
   "execution_count": 42,
   "metadata": {},
   "outputs": [
    {
     "name": "stdout",
     "output_type": "stream",
     "text": [
      "Wall time: 113 ms\n",
      "0.9081169166049647 [0.91071429 0.89605735 0.91366906 0.89928058 0.92086331]\n"
     ]
    }
   ],
   "source": [
    "classifier  = LogisticRegression(solver='lbfgs')\n",
    "\n",
    "%time classifier.fit(x_train,y_train)\n",
    "scores =cross_val_score(classifier,x_test,y_test,cv=5)\n",
    "print(np.mean(scores), scores)"
   ]
  },
  {
   "cell_type": "code",
   "execution_count": 61,
   "metadata": {},
   "outputs": [
    {
     "name": "stdout",
     "output_type": "stream",
     "text": [
      "                                                  sms     0\n",
      "0            Yes..gauti and sehwag out of odi series.   ham\n",
      "1   Your gonna have to pick up a $1 burger for you...   ham\n",
      "2    Ha ha ha good joke. Girls are situation seekers.   ham\n",
      "3                           Its a part of checking IQ   ham\n",
      "4   Sorry my roommates took forever, it ok if I co...   ham\n",
      "5   Ok lar i double check wif da hair dresser alre...   ham\n",
      "6   As a valued customer, I am pleased to advise y...  spam\n",
      "7   Today is \"song dedicated day..\" Which song wil...   ham\n",
      "8   Urgent UR awarded a complimentary trip to Euro...  spam\n",
      "9   Did you hear about the new \"Divorce Barbie\"? I...   ham\n",
      "10                 I plane to give on this month end.   ham\n",
      "11     Wah lucky man... Then can save money... Hee...   ham\n",
      "12                      Finished class where are you.   ham\n",
      "13      HI BABE IM AT HOME NOW WANNA DO SOMETHING? XX   ham\n",
      "14         K..k:)where are you?how did you performed?   ham\n",
      "15                               U can call me now...   ham\n",
      "16        I am waiting machan. Call me once you free.   ham\n",
      "17  Thats cool. i am a gentleman and will treat yo...   ham\n",
      "18  I like you peoples very much:) but am very shy...   ham\n",
      "19         Does not operate after  &lt;#&gt;  or what   ham\n",
      "20  Its not the same here. Still looking for a job...   ham\n",
      "21                             Sorry, I'll call later   ham\n",
      "22                   K. Did you call me just now ah?    ham\n",
      "23                   Ok i am on the way to home hi hi   ham\n",
      "24               You will be in the place of that man   ham\n",
      "25                                     Yup next stop.   ham\n",
      "26  I call you later, don't have network. If urgnt...   ham\n",
      "27  For real when u getting on yo? I only need 2 m...   ham\n",
      "28  Yes I started to send requests to make it but ...   ham\n",
      "29         I'm really not up to it still tonight babe   ham\n",
      "..                                                ...   ...\n",
      "69                             Are you there in room.   ham\n",
      "70  HEY GIRL. HOW R U? HOPE U R WELL ME AN DEL R B...   ham\n",
      "71                       K..k:)how much does it cost?   ham\n",
      "72                                          I'm home.   ham\n",
      "73            Dear, will call Tmorrow.pls accomodate.   ham\n",
      "74                          First answer my question.   ham\n",
      "75  Sunshine Quiz Wkly Q! Win a top Sony DVD playe...  spam\n",
      "76  Want 2 get laid tonight? Want real Dogging loc...  spam\n",
      "77             I only haf msn. It's yijue@hotmail.com   ham\n",
      "78                 He is there. You call and meet him   ham\n",
      "79     No no. I will check all rooms befor activities   ham\n",
      "80  You'll not rcv any more msgs from the chat svc...   ham\n",
      "81  Got c... I lazy to type... I forgot ü in lect....   ham\n",
      "82                  K, text me when you're on the way   ham\n",
      "83                        Sir, Waiting for your mail.   ham\n",
      "84  A swt thought: \"Nver get tired of doing little...   ham\n",
      "85         I know you are. Can you pls open the back?   ham\n",
      "86                          Yes see ya not on the dot   ham\n",
      "87   Whats the staff name who is taking class for us?   ham\n",
      "88  FreeMsg Why haven't you replied to my text? I'...  spam\n",
      "89  Ummma.will call after check in.our life will b...   ham\n",
      "90                  K..i deleted my contact that why?   ham\n",
      "91                     Sindu got job in birla soft ..   ham\n",
      "92      The wine is flowing and i'm i have nevering..   ham\n",
      "93  Yup i thk cine is better cos no need 2 go down...   ham\n",
      "94                          Ok... Ur typical reply...   ham\n",
      "95  As per your request 'Melle Melle (Oru Minnamin...   ham\n",
      "96  You are everywhere dirt, on the floor, the win...   ham\n",
      "97                       Aaooooright are you at work?   ham\n",
      "98                        I'm leaving my house now...   ham\n",
      "\n",
      "[99 rows x 2 columns]\n"
     ]
    }
   ],
   "source": [
    "url=r'C:\\Users\\w10\\Desktop\\Hp\\smsspamcollection\\smsnew.txt'\n",
    "\n",
    "msg_new=pd.read_csv(url,delimiter='\\t',names=['smscategory','sms'])\n",
    "msg_set =vectorizer.transform(msg_new.sms)\n",
    "\n",
    "#print(msg_new.sms)\n",
    "\n",
    "\n",
    "predit = classifier.predict(msg_set)\n",
    "\n",
    "nmsg=pd.DataFrame(msg_new.sms)\n",
    "#print(nmsg)\n",
    "\n",
    "predit=pd.DataFrame(predit)\n",
    "#print(predit)\n",
    "frames =[nmsg,predit]\n",
    "rst=pd.concat(frames,axis=1, sort=False)\n",
    "print(rst)\n"
   ]
  },
  {
   "cell_type": "code",
   "execution_count": null,
   "metadata": {},
   "outputs": [],
   "source": []
  },
  {
   "cell_type": "code",
   "execution_count": null,
   "metadata": {},
   "outputs": [],
   "source": []
  },
  {
   "cell_type": "code",
   "execution_count": null,
   "metadata": {},
   "outputs": [],
   "source": []
  },
  {
   "cell_type": "code",
   "execution_count": null,
   "metadata": {},
   "outputs": [],
   "source": []
  },
  {
   "cell_type": "code",
   "execution_count": null,
   "metadata": {},
   "outputs": [],
   "source": []
  }
 ],
 "metadata": {
  "kernelspec": {
   "display_name": "Python 3",
   "language": "python",
   "name": "python3"
  },
  "language_info": {
   "codemirror_mode": {
    "name": "ipython",
    "version": 3
   },
   "file_extension": ".py",
   "mimetype": "text/x-python",
   "name": "python",
   "nbconvert_exporter": "python",
   "pygments_lexer": "ipython3",
   "version": "3.7.3"
  }
 },
 "nbformat": 4,
 "nbformat_minor": 2
}
