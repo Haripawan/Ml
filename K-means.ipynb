{
 "cells": [
  {
   "cell_type": "code",
   "execution_count": 5,
   "metadata": {},
   "outputs": [
    {
     "data": {
      "text/plain": [
       "(600, 12)"
      ]
     },
     "execution_count": 5,
     "metadata": {},
     "output_type": "execute_result"
    }
   ],
   "source": [
    "import pandas as pd\n",
    "\n",
    "url=r'C:\\Users\\w10\\Desktop\\Hp\\bankdata.xls'\n",
    "bank=pd.read_excel(url,sheet_name='bank-data')\n",
    "bank.shape"
   ]
  },
  {
   "cell_type": "code",
   "execution_count": 6,
   "metadata": {},
   "outputs": [],
   "source": [
    "import numpy as np\n",
    "import matplotlib.pyplot as plt\n",
    "%matplotlib inline\n",
    "from scipy import stats\n",
    "import pandas\n",
    "\n",
    "import seaborn as sns;\n",
    "sns.set()\n",
    "\n",
    "from scipy.spatial.distance import  cdist,pdist\n",
    "from sklearn.cluster import KMeans\n"
   ]
  },
  {
   "cell_type": "code",
   "execution_count": 8,
   "metadata": {},
   "outputs": [],
   "source": [
    "from sklearn.preprocessing import LabelEncoder\n",
    "lb_make = LabelEncoder()\n",
    "bank[\"regi\"] = lb_make.fit_transform(bank[\"region\"])\n",
    "\n",
    "\n",
    "bank=bank.drop('region', 1)\n",
    "bank=bank.drop('id', 1)"
   ]
  },
  {
   "cell_type": "code",
   "execution_count": 11,
   "metadata": {},
   "outputs": [
    {
     "data": {
      "text/plain": [
       "Text(0.5, 1.0, 'Elbow for KMeans clustering (Bank Customer  Data)')"
      ]
     },
     "execution_count": 11,
     "metadata": {},
     "output_type": "execute_result"
    },
    {
     "data": {
      "image/png": "[encoded data removed]",
      "text/plain": [
       "<Figure size 432x288 with 1 Axes>"
      ]
     },
     "metadata": {},
     "output_type": "display_data"
    }
   ],
   "source": [
    "k = range(1,11)\n",
    "\n",
    "clusters = [KMeans(n_clusters = c,init = 'k-means++').fit(bank) \n",
    "            for c in k]\n",
    "centr_lst = [cc.cluster_centers_ for cc in clusters]\n",
    "\n",
    "k_distance = [cdist(bank, cent, 'euclidean') for cent in centr_lst]\n",
    "clust_indx = [np.argmin(kd,axis=1) for kd in k_distance]\n",
    "distances = [np.min(kd,axis=1) for kd in k_distance]\n",
    "avg_within = [np.sum(dist)/bank.shape[0] for dist in distances]\n",
    "\n",
    "kidx = 2\n",
    "\n",
    "fig = plt.figure()\n",
    "ax = fig.add_subplot(111)\n",
    "ax.plot(k, avg_within, 'g*-')\n",
    "ax.plot(k[kidx], avg_within[kidx], marker='o', markersize=12, \\\n",
    "markeredgewidth=2, markeredgecolor='r', markerfacecolor='None')\n",
    "plt.grid(True)\n",
    "plt.xlabel('Number of clusters')\n",
    "plt.ylabel('Average within-cluster sum of squares')\n",
    "plt.title('Elbow for KMeans clustering (Bank Customer  Data)')"
   ]
  },
  {
   "cell_type": "code",
   "execution_count": 14,
   "metadata": {},
   "outputs": [
    {
     "data": {
      "text/plain": [
       "array([9.99999432e-01, 5.42004326e-07, 9.95678376e-09, 6.72390781e-09])"
      ]
     },
     "execution_count": 14,
     "metadata": {},
     "output_type": "execute_result"
    }
   ],
   "source": [
    "from sklearn.decomposition import PCA\n",
    "pca=PCA(n_components=4)\n",
    "fit=pca.fit(bank)\n",
    "fit.explained_variance_ratio_"
   ]
  },
  {
   "cell_type": "code",
   "execution_count": 15,
   "metadata": {},
   "outputs": [
    {
     "name": "stdout",
     "output_type": "stream",
     "text": [
      "silhouette_score=%f 0.5637260991980797\n"
     ]
    },
    {
     "data": {
      "text/plain": [
       "array([2, 0, 2, 2, 1, 0, 2, 0, 0, 0, 1, 0, 2, 1, 2, 2, 2, 1, 0, 2, 1, 2,\n",
       "       0, 2, 2, 1, 2, 2, 0, 0, 2, 2, 2, 0, 0, 2, 2, 2, 2, 0, 0, 0, 1, 0,\n",
       "       2, 1, 2, 2, 0, 2, 2, 0, 2, 0, 1, 1, 0, 2, 2, 0, 0, 0, 0, 2, 2, 2,\n",
       "       2, 0, 2, 2, 2, 2, 0, 2, 1, 0, 0, 1, 2, 0, 2, 0, 2, 2, 0, 0, 2, 2,\n",
       "       2, 0, 0, 0, 0, 1, 1, 2, 2, 0, 2, 2, 0, 2, 2, 0, 0, 0, 1, 2, 2, 0,\n",
       "       0, 0, 0, 0, 1, 1, 2, 2, 2, 1, 0, 1, 2, 0, 1, 0, 0, 1, 2, 2, 2, 1,\n",
       "       2, 0, 1, 0, 2, 0, 1, 1, 0, 2, 2, 1, 2, 1, 2, 2, 0, 0, 0, 0, 1, 0,\n",
       "       2, 2, 0, 2, 2, 2, 2, 2, 2, 2, 0, 0, 2, 2, 0, 0, 1, 2, 0, 0, 1, 1,\n",
       "       0, 0, 2, 0, 2, 1, 0, 2, 0, 0, 2, 0, 0, 2, 1, 2, 1, 2, 0, 2, 2, 1,\n",
       "       2, 2, 0, 1, 2, 2, 2, 2, 1, 2, 0, 2, 0, 0, 2, 2, 2, 2, 2, 0, 0, 0,\n",
       "       0, 1, 0, 1, 1, 0, 1, 0, 0, 2, 0, 0, 2, 0, 1, 2, 1, 2, 2, 2, 2, 1,\n",
       "       0, 2, 0, 0, 2, 2, 2, 2, 1, 0, 2, 2, 2, 0, 0, 2, 2, 2, 2, 0, 2, 1,\n",
       "       2, 2, 0, 0, 0, 2, 1, 1, 2, 0, 0, 2, 0, 2, 0, 0, 2, 2, 1, 0, 2, 2,\n",
       "       0, 0, 2, 0, 2, 0, 1, 2, 2, 0, 0, 2, 2, 2, 2, 2, 0, 1, 1, 2, 1, 0,\n",
       "       0, 2, 0, 0, 0, 2, 2, 1, 2, 0, 2, 2, 0, 2, 2, 0, 0, 2, 0, 2, 1, 2,\n",
       "       1, 2, 0, 2, 2, 0, 0, 0, 0, 2, 0, 1, 1, 2, 0, 1, 0, 1, 0, 0, 0, 0,\n",
       "       0, 1, 0, 1, 2, 2, 0, 2, 1, 2, 0, 2, 1, 2, 0, 1, 2, 0, 1, 0, 2, 0,\n",
       "       1, 2, 0, 0, 2, 2, 0, 0, 2, 0, 0, 0, 2, 0, 2, 2, 1, 2, 0, 2, 0, 2,\n",
       "       0, 0, 1, 0, 2, 2, 0, 2, 2, 0, 1, 2, 2, 2, 2, 2, 1, 2, 1, 2, 2, 2,\n",
       "       0, 2, 1, 1, 2, 1, 2, 0, 0, 0, 2, 0, 0, 1, 2, 0, 2, 2, 2, 0, 2, 2,\n",
       "       0, 1, 0, 0, 2, 0, 1, 0, 1, 0, 0, 0, 0, 1, 2, 2, 2, 1, 2, 1, 2, 0,\n",
       "       2, 2, 2, 0, 2, 2, 2, 0, 1, 0, 2, 0, 2, 2, 0, 0, 2, 1, 2, 1, 0, 2,\n",
       "       2, 1, 2, 2, 2, 2, 0, 2, 0, 1, 1, 0, 1, 1, 1, 2, 0, 0, 0, 2, 1, 0,\n",
       "       2, 2, 1, 2, 2, 2, 1, 2, 0, 2, 2, 0, 2, 0, 2, 2, 2, 2, 2, 2, 2, 2,\n",
       "       0, 1, 1, 0, 0, 0, 2, 2, 0, 1, 0, 2, 2, 0, 2, 1, 2, 0, 2, 2, 2, 1,\n",
       "       2, 0, 1, 0, 0, 2, 2, 0, 0, 0, 2, 2, 1, 2, 2, 0, 2, 2, 0, 2, 0, 0,\n",
       "       0, 2, 0, 0, 2, 1, 2, 0, 1, 2, 2, 0, 2, 2, 2, 0, 1, 2, 0, 0, 2, 1,\n",
       "       0, 1, 2, 2, 2, 0])"
      ]
     },
     "execution_count": 15,
     "metadata": {},
     "output_type": "execute_result"
    }
   ],
   "source": [
    "from sklearn import cluster\n",
    "from sklearn import metrics\n",
    "\n",
    "k_means = cluster.KMeans(n_clusters=3)\n",
    "\n",
    "kmf=k_means.fit(bank)\n",
    "\n",
    "Pred_kmeans = kmf.predict(bank)\n",
    "\n",
    "ms=metrics.silhouette_score(bank, Pred_kmeans,metric='euclidean')\n",
    "print(\"silhouette_score=%f\",ms)\n",
    "\n",
    "Pred_kmeans"
   ]
  },
  {
   "cell_type": "code",
   "execution_count": null,
   "metadata": {},
   "outputs": [],
   "source": []
  },
  {
   "cell_type": "code",
   "execution_count": null,
   "metadata": {},
   "outputs": [],
   "source": []
  },
  {
   "cell_type": "code",
   "execution_count": null,
   "metadata": {},
   "outputs": [],
   "source": []
  },
  {
   "cell_type": "code",
   "execution_count": null,
   "metadata": {},
   "outputs": [],
   "source": []
  },
  {
   "cell_type": "code",
   "execution_count": null,
   "metadata": {},
   "outputs": [],
   "source": []
  },
  {
   "cell_type": "code",
   "execution_count": null,
   "metadata": {},
   "outputs": [],
   "source": []
  }
 ],
 "metadata": {
  "kernelspec": {
   "display_name": "Python 3",
   "language": "python",
   "name": "python3"
  },
  "language_info": {
   "codemirror_mode": {
    "name": "ipython",
    "version": 3
   },
   "file_extension": ".py",
   "mimetype": "text/x-python",
   "name": "python",
   "nbconvert_exporter": "python",
   "pygments_lexer": "ipython3",
   "version": "3.7.3"
  }
 },
 "nbformat": 4,
 "nbformat_minor": 2
}
